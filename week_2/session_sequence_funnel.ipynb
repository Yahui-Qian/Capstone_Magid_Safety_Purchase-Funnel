{
 "cells": [
  {
   "cell_type": "code",
   "execution_count": 2,
   "id": "be76e6dc",
   "metadata": {},
   "outputs": [],
   "source": [
    "import pandas as pd"
   ]
  },
  {
   "cell_type": "code",
   "execution_count": 3,
   "id": "f4bde7ab",
   "metadata": {},
   "outputs": [
    {
     "name": "stderr",
     "output_type": "stream",
     "text": [
      "C:\\Users\\laptop\\AppData\\Local\\Temp\\ipykernel_13976\\589955940.py:1: DtypeWarning: Columns (0) have mixed types. Specify dtype option on import or set low_memory=False.\n",
      "  data = pd.read_csv('session_journey.csv')\n"
     ]
    }
   ],
   "source": [
    "data = pd.read_csv('session_journey.csv')"
   ]
  },
  {
   "cell_type": "code",
   "execution_count": 4,
   "id": "ce0c2cc9",
   "metadata": {},
   "outputs": [
    {
     "data": {
      "text/plain": [
       "(1357642, 5)"
      ]
     },
     "execution_count": 4,
     "metadata": {},
     "output_type": "execute_result"
    }
   ],
   "source": [
    "data.shape"
   ]
  },
  {
   "cell_type": "code",
   "execution_count": 5,
   "id": "5b0f7df1",
   "metadata": {},
   "outputs": [
    {
     "data": {
      "text/html": [
       "<div>\n",
       "<style scoped>\n",
       "    .dataframe tbody tr th:only-of-type {\n",
       "        vertical-align: middle;\n",
       "    }\n",
       "\n",
       "    .dataframe tbody tr th {\n",
       "        vertical-align: top;\n",
       "    }\n",
       "\n",
       "    .dataframe thead th {\n",
       "        text-align: right;\n",
       "    }\n",
       "</style>\n",
       "<table border=\"1\" class=\"dataframe\">\n",
       "  <thead>\n",
       "    <tr style=\"text-align: right;\">\n",
       "      <th></th>\n",
       "      <th>user_pseudo_id</th>\n",
       "      <th>session_id</th>\n",
       "      <th>event_name</th>\n",
       "      <th>event_timestamp</th>\n",
       "      <th>session_sequence</th>\n",
       "    </tr>\n",
       "  </thead>\n",
       "  <tbody>\n",
       "    <tr>\n",
       "      <th>0</th>\n",
       "      <td>+JCOGYuIB0UiMuCAfoa19Zx4/kyAS1mL/oiJpA8Efc4=.1...</td>\n",
       "      <td>1753451127</td>\n",
       "      <td>add_shipping_info</td>\n",
       "      <td>1753451297088070</td>\n",
       "      <td>1</td>\n",
       "    </tr>\n",
       "    <tr>\n",
       "      <th>1</th>\n",
       "      <td>+JCOGYuIB0UiMuCAfoa19Zx4/kyAS1mL/oiJpA8Efc4=.1...</td>\n",
       "      <td>1753451127</td>\n",
       "      <td>add_shipping_info</td>\n",
       "      <td>1753451182344109</td>\n",
       "      <td>1</td>\n",
       "    </tr>\n",
       "    <tr>\n",
       "      <th>2</th>\n",
       "      <td>+JCOGYuIB0UiMuCAfoa19Zx4/kyAS1mL/oiJpA8Efc4=.1...</td>\n",
       "      <td>1753451127</td>\n",
       "      <td>scroll</td>\n",
       "      <td>1753451292038435</td>\n",
       "      <td>1</td>\n",
       "    </tr>\n",
       "    <tr>\n",
       "      <th>3</th>\n",
       "      <td>+JCOGYuIB0UiMuCAfoa19Zx4/kyAS1mL/oiJpA8Efc4=.1...</td>\n",
       "      <td>1753451127</td>\n",
       "      <td>view_item</td>\n",
       "      <td>1753451155614618</td>\n",
       "      <td>1</td>\n",
       "    </tr>\n",
       "    <tr>\n",
       "      <th>4</th>\n",
       "      <td>+JCOGYuIB0UiMuCAfoa19Zx4/kyAS1mL/oiJpA8Efc4=.1...</td>\n",
       "      <td>1753451127</td>\n",
       "      <td>page_view</td>\n",
       "      <td>1753451155636451</td>\n",
       "      <td>1</td>\n",
       "    </tr>\n",
       "  </tbody>\n",
       "</table>\n",
       "</div>"
      ],
      "text/plain": [
       "                                      user_pseudo_id  session_id  \\\n",
       "0  +JCOGYuIB0UiMuCAfoa19Zx4/kyAS1mL/oiJpA8Efc4=.1...  1753451127   \n",
       "1  +JCOGYuIB0UiMuCAfoa19Zx4/kyAS1mL/oiJpA8Efc4=.1...  1753451127   \n",
       "2  +JCOGYuIB0UiMuCAfoa19Zx4/kyAS1mL/oiJpA8Efc4=.1...  1753451127   \n",
       "3  +JCOGYuIB0UiMuCAfoa19Zx4/kyAS1mL/oiJpA8Efc4=.1...  1753451127   \n",
       "4  +JCOGYuIB0UiMuCAfoa19Zx4/kyAS1mL/oiJpA8Efc4=.1...  1753451127   \n",
       "\n",
       "          event_name   event_timestamp  session_sequence  \n",
       "0  add_shipping_info  1753451297088070                 1  \n",
       "1  add_shipping_info  1753451182344109                 1  \n",
       "2             scroll  1753451292038435                 1  \n",
       "3          view_item  1753451155614618                 1  \n",
       "4          page_view  1753451155636451                 1  "
      ]
     },
     "execution_count": 5,
     "metadata": {},
     "output_type": "execute_result"
    }
   ],
   "source": [
    "data.head()"
   ]
  },
  {
   "cell_type": "code",
   "execution_count": 6,
   "id": "9e11b516",
   "metadata": {},
   "outputs": [
    {
     "data": {
      "text/plain": [
       "session_sequence\n",
       "1     589492\n",
       "2     216125\n",
       "3     121005\n",
       "4      77448\n",
       "5      57977\n",
       "       ...  \n",
       "82        23\n",
       "78        19\n",
       "86        10\n",
       "85         9\n",
       "80         4\n",
       "Name: count, Length: 86, dtype: int64"
      ]
     },
     "execution_count": 6,
     "metadata": {},
     "output_type": "execute_result"
    }
   ],
   "source": [
    "data['session_sequence'].value_counts()"
   ]
  },
  {
   "cell_type": "code",
   "execution_count": 9,
   "id": "83608367",
   "metadata": {},
   "outputs": [],
   "source": [
    "session_funnel_data = data.groupby('session_sequence')['event_name'].value_counts().unstack(fill_value=0)"
   ]
  },
  {
   "cell_type": "code",
   "execution_count": 10,
   "id": "f27c4abf",
   "metadata": {},
   "outputs": [],
   "source": [
    "session_funnel_data.to_csv('session_funnel_data.csv')"
   ]
  }
 ],
 "metadata": {
  "kernelspec": {
   "display_name": "base",
   "language": "python",
   "name": "python3"
  },
  "language_info": {
   "codemirror_mode": {
    "name": "ipython",
    "version": 3
   },
   "file_extension": ".py",
   "mimetype": "text/x-python",
   "name": "python",
   "nbconvert_exporter": "python",
   "pygments_lexer": "ipython3",
   "version": "3.13.5"
  }
 },
 "nbformat": 4,
 "nbformat_minor": 5
}
