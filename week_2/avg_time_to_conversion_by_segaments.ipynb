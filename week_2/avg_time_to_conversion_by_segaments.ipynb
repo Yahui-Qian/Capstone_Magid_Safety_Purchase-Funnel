{
 "cells": [
  {
   "cell_type": "code",
   "execution_count": 93,
   "id": "a9b8198a",
   "metadata": {},
   "outputs": [],
   "source": [
    "import pandas as pd"
   ]
  },
  {
   "cell_type": "code",
   "execution_count": 94,
   "id": "d76443b7",
   "metadata": {},
   "outputs": [
    {
     "name": "stderr",
     "output_type": "stream",
     "text": [
      "C:\\Users\\laptop\\AppData\\Local\\Temp\\ipykernel_59240\\3775562660.py:1: DtypeWarning: Columns (0) have mixed types. Specify dtype option on import or set low_memory=False.\n",
      "  data = pd.read_csv('modeling_data_0801.csv')\n"
     ]
    }
   ],
   "source": [
    "data = pd.read_csv('modeling_data_0801.csv')"
   ]
  },
  {
   "cell_type": "code",
   "execution_count": 95,
   "id": "205a7bc3",
   "metadata": {},
   "outputs": [
    {
     "data": {
      "text/plain": [
       "(505491, 11)"
      ]
     },
     "execution_count": 95,
     "metadata": {},
     "output_type": "execute_result"
    }
   ],
   "source": [
    "data.shape"
   ]
  },
  {
   "cell_type": "code",
   "execution_count": 96,
   "id": "7d48013c",
   "metadata": {},
   "outputs": [
    {
     "data": {
      "text/html": [
       "<div>\n",
       "<style scoped>\n",
       "    .dataframe tbody tr th:only-of-type {\n",
       "        vertical-align: middle;\n",
       "    }\n",
       "\n",
       "    .dataframe tbody tr th {\n",
       "        vertical-align: top;\n",
       "    }\n",
       "\n",
       "    .dataframe thead th {\n",
       "        text-align: right;\n",
       "    }\n",
       "</style>\n",
       "<table border=\"1\" class=\"dataframe\">\n",
       "  <thead>\n",
       "    <tr style=\"text-align: right;\">\n",
       "      <th></th>\n",
       "      <th>user_pseudo_id</th>\n",
       "      <th>session_id</th>\n",
       "      <th>event_name</th>\n",
       "      <th>event_timestamp</th>\n",
       "      <th>session_duration</th>\n",
       "      <th>customer_type</th>\n",
       "      <th>original_customer_type</th>\n",
       "      <th>device_category</th>\n",
       "      <th>traffic_source</th>\n",
       "      <th>traffic_source_medium</th>\n",
       "      <th>time_to_conversion</th>\n",
       "    </tr>\n",
       "  </thead>\n",
       "  <tbody>\n",
       "    <tr>\n",
       "      <th>0</th>\n",
       "      <td>+JCOGYuIB0UiMuCAfoa19Zx4/kyAS1mL/oiJpA8Efc4=.1...</td>\n",
       "      <td>1753451127</td>\n",
       "      <td>page_view</td>\n",
       "      <td>1753451127470651</td>\n",
       "      <td>250944587</td>\n",
       "      <td>NaN</td>\n",
       "      <td>NaN</td>\n",
       "      <td>desktop</td>\n",
       "      <td>app.jotform.com</td>\n",
       "      <td>referral</td>\n",
       "      <td>242274347</td>\n",
       "    </tr>\n",
       "    <tr>\n",
       "      <th>1</th>\n",
       "      <td>+JCOGYuIB0UiMuCAfoa19Zx4/kyAS1mL/oiJpA8Efc4=.1...</td>\n",
       "      <td>1753451127</td>\n",
       "      <td>first_visit</td>\n",
       "      <td>1753451127470651</td>\n",
       "      <td>250944587</td>\n",
       "      <td>NaN</td>\n",
       "      <td>NaN</td>\n",
       "      <td>desktop</td>\n",
       "      <td>app.jotform.com</td>\n",
       "      <td>referral</td>\n",
       "      <td>242274347</td>\n",
       "    </tr>\n",
       "    <tr>\n",
       "      <th>2</th>\n",
       "      <td>+JCOGYuIB0UiMuCAfoa19Zx4/kyAS1mL/oiJpA8Efc4=.1...</td>\n",
       "      <td>1753451127</td>\n",
       "      <td>session_start</td>\n",
       "      <td>1753451127470651</td>\n",
       "      <td>250944587</td>\n",
       "      <td>NaN</td>\n",
       "      <td>NaN</td>\n",
       "      <td>desktop</td>\n",
       "      <td>app.jotform.com</td>\n",
       "      <td>referral</td>\n",
       "      <td>242274347</td>\n",
       "    </tr>\n",
       "    <tr>\n",
       "      <th>3</th>\n",
       "      <td>+JCOGYuIB0UiMuCAfoa19Zx4/kyAS1mL/oiJpA8Efc4=.1...</td>\n",
       "      <td>1753451127</td>\n",
       "      <td>page_view</td>\n",
       "      <td>1753451132664814</td>\n",
       "      <td>250944587</td>\n",
       "      <td>NaN</td>\n",
       "      <td>NaN</td>\n",
       "      <td>desktop</td>\n",
       "      <td>app.jotform.com</td>\n",
       "      <td>referral</td>\n",
       "      <td>242274347</td>\n",
       "    </tr>\n",
       "    <tr>\n",
       "      <th>4</th>\n",
       "      <td>+JCOGYuIB0UiMuCAfoa19Zx4/kyAS1mL/oiJpA8Efc4=.1...</td>\n",
       "      <td>1753451127</td>\n",
       "      <td>view_item_list</td>\n",
       "      <td>1753451138041042</td>\n",
       "      <td>250944587</td>\n",
       "      <td>NaN</td>\n",
       "      <td>NaN</td>\n",
       "      <td>desktop</td>\n",
       "      <td>app.jotform.com</td>\n",
       "      <td>referral</td>\n",
       "      <td>242274347</td>\n",
       "    </tr>\n",
       "  </tbody>\n",
       "</table>\n",
       "</div>"
      ],
      "text/plain": [
       "                                      user_pseudo_id  session_id  \\\n",
       "0  +JCOGYuIB0UiMuCAfoa19Zx4/kyAS1mL/oiJpA8Efc4=.1...  1753451127   \n",
       "1  +JCOGYuIB0UiMuCAfoa19Zx4/kyAS1mL/oiJpA8Efc4=.1...  1753451127   \n",
       "2  +JCOGYuIB0UiMuCAfoa19Zx4/kyAS1mL/oiJpA8Efc4=.1...  1753451127   \n",
       "3  +JCOGYuIB0UiMuCAfoa19Zx4/kyAS1mL/oiJpA8Efc4=.1...  1753451127   \n",
       "4  +JCOGYuIB0UiMuCAfoa19Zx4/kyAS1mL/oiJpA8Efc4=.1...  1753451127   \n",
       "\n",
       "       event_name   event_timestamp  session_duration customer_type  \\\n",
       "0       page_view  1753451127470651         250944587           NaN   \n",
       "1     first_visit  1753451127470651         250944587           NaN   \n",
       "2   session_start  1753451127470651         250944587           NaN   \n",
       "3       page_view  1753451132664814         250944587           NaN   \n",
       "4  view_item_list  1753451138041042         250944587           NaN   \n",
       "\n",
       "  original_customer_type device_category   traffic_source  \\\n",
       "0                    NaN         desktop  app.jotform.com   \n",
       "1                    NaN         desktop  app.jotform.com   \n",
       "2                    NaN         desktop  app.jotform.com   \n",
       "3                    NaN         desktop  app.jotform.com   \n",
       "4                    NaN         desktop  app.jotform.com   \n",
       "\n",
       "  traffic_source_medium  time_to_conversion  \n",
       "0              referral           242274347  \n",
       "1              referral           242274347  \n",
       "2              referral           242274347  \n",
       "3              referral           242274347  \n",
       "4              referral           242274347  "
      ]
     },
     "execution_count": 96,
     "metadata": {},
     "output_type": "execute_result"
    }
   ],
   "source": [
    "data.head()"
   ]
  },
  {
   "cell_type": "code",
   "execution_count": 97,
   "id": "b99474fa",
   "metadata": {},
   "outputs": [
    {
     "name": "stdout",
     "output_type": "stream",
     "text": [
      "<class 'pandas.core.frame.DataFrame'>\n",
      "RangeIndex: 505491 entries, 0 to 505490\n",
      "Data columns (total 11 columns):\n",
      " #   Column                  Non-Null Count   Dtype \n",
      "---  ------                  --------------   ----- \n",
      " 0   user_pseudo_id          505491 non-null  object\n",
      " 1   session_id              505491 non-null  int64 \n",
      " 2   event_name              505491 non-null  object\n",
      " 3   event_timestamp         505491 non-null  int64 \n",
      " 4   session_duration        505491 non-null  int64 \n",
      " 5   customer_type           361788 non-null  object\n",
      " 6   original_customer_type  80108 non-null   object\n",
      " 7   device_category         505491 non-null  object\n",
      " 8   traffic_source          504824 non-null  object\n",
      " 9   traffic_source_medium   504707 non-null  object\n",
      " 10  time_to_conversion      505491 non-null  int64 \n",
      "dtypes: int64(4), object(7)\n",
      "memory usage: 42.4+ MB\n"
     ]
    }
   ],
   "source": [
    "data.info()"
   ]
  },
  {
   "cell_type": "code",
   "execution_count": 98,
   "id": "01827741",
   "metadata": {},
   "outputs": [
    {
     "data": {
      "text/plain": [
       "(505491, 8)"
      ]
     },
     "execution_count": 98,
     "metadata": {},
     "output_type": "execute_result"
    }
   ],
   "source": [
    "data = data.drop(columns=['event_name', 'event_timestamp', 'original_customer_type'])\n",
    "data.shape"
   ]
  },
  {
   "cell_type": "code",
   "execution_count": 99,
   "id": "6b6ed365",
   "metadata": {},
   "outputs": [
    {
     "data": {
      "text/plain": [
       "(7594, 8)"
      ]
     },
     "execution_count": 99,
     "metadata": {},
     "output_type": "execute_result"
    }
   ],
   "source": [
    "# drop duplicate rows\n",
    "data = data.drop_duplicates()\n",
    "data.shape"
   ]
  },
  {
   "cell_type": "code",
   "execution_count": 100,
   "id": "76499d3e",
   "metadata": {},
   "outputs": [],
   "source": [
    "data['time_to_conversion'] = data['time_to_conversion'].apply(\n",
    "    lambda x: x/1000000/60) # convert from microseconds to minutes"
   ]
  },
  {
   "cell_type": "markdown",
   "id": "288e0f49",
   "metadata": {},
   "source": [
    "### Calculate average time to conversion by source"
   ]
  },
  {
   "cell_type": "code",
   "execution_count": 101,
   "id": "08d3d5c3",
   "metadata": {},
   "outputs": [
    {
     "data": {
      "text/plain": [
       "traffic_source\n",
       "google                                    3544\n",
       "(direct)                                  2508\n",
       "bing                                      1109\n",
       "hs_email                                   127\n",
       "CJ                                          70\n",
       "Data Not Available                          42\n",
       "yahoo                                       20\n",
       "statics.teams.cdn.office.net                17\n",
       "magento                                     16\n",
       "mrcnet                                      15\n",
       "excel.officeapps.live.com                   10\n",
       "hs_automation                                9\n",
       "duckduckgo                                   9\n",
       "ebiz-myus-com.go.akamai-access.com           7\n",
       "utm_source=magento                           6\n",
       "sites.google.com                             4\n",
       "PRODUCTAD                                    4\n",
       "mail.google.com                              4\n",
       "chatgpt.com                                  4\n",
       "assistant.order.co                           3\n",
       "kb.iflyworld.com                             3\n",
       "usc-excel.officeapps.live.com                3\n",
       "app.asana.com                                3\n",
       "reddit.com                                   3\n",
       "link.edgepilot.com                           3\n",
       "zamcotech.com                                2\n",
       "pullapartcorp.zendesk.com                    2\n",
       "statics.gov.teams.microsoft.us               2\n",
       "signature                                    2\n",
       "redir.pricespider.com                        2\n",
       "magidglove-3856451.hs-sites.com              2\n",
       "portal.raiven.com                            2\n",
       "app.jotform.com                              1\n",
       "app.clickup.com                              1\n",
       "app.3pmercury.com                            1\n",
       "admin.shopify.com                            1\n",
       "search.brave.com                             1\n",
       "perplexity.ai                                1\n",
       "labspend.com                                 1\n",
       "safetysuite.waves.tmsinternational.com       1\n",
       "hs-3856451.s.hubspotemail.net                1\n",
       "docs.google.com                              1\n",
       "myapplications.microsoft.com                 1\n",
       "safe.menlosecurity.com                       1\n",
       "mennel.sharepoint.com                        1\n",
       "ntp.msn.com                                  1\n",
       "mscompanies.my.salesforce.com                1\n",
       "myapps.microsoft.com                         1\n",
       "fuse-us.masterdataonline.com                 1\n",
       "lsems.gravityzone.bitdefender.com            1\n",
       "ecovative.quickbase.com                      1\n",
       "mpulse9.com                                  1\n",
       "kvalincorporated.sharepoint.com              1\n",
       "scanmail.trustwave.com                       1\n",
       "top.simplefinder.co                          1\n",
       "kinleyconstruction0.sharepoint.com           1\n",
       "m.facebook.com                               1\n",
       "Name: count, dtype: int64"
      ]
     },
     "execution_count": 101,
     "metadata": {},
     "output_type": "execute_result"
    }
   ],
   "source": [
    "data['traffic_source'].value_counts()"
   ]
  },
  {
   "cell_type": "code",
   "execution_count": 106,
   "id": "65b5da36",
   "metadata": {},
   "outputs": [],
   "source": [
    "# filter only the traffic sources that have more than 10 occurrences\n",
    "traffic_source = data[data['traffic_source'].isin(data['traffic_source'].value_counts()[data['traffic_source'].value_counts() > 10].index)]\n",
    "\n",
    "traffic_source = traffic_source[['traffic_source', 'time_to_conversion']].groupby(['traffic_source']).mean().reset_index()\n",
    "traffic_source.sort_values(by='time_to_conversion', ascending=False, inplace=True)\n",
    "traffic_source.reset_index(drop=True, inplace=True)"
   ]
  },
  {
   "cell_type": "code",
   "execution_count": 107,
   "id": "f3f81e2f",
   "metadata": {},
   "outputs": [
    {
     "data": {
      "text/html": [
       "<div>\n",
       "<style scoped>\n",
       "    .dataframe tbody tr th:only-of-type {\n",
       "        vertical-align: middle;\n",
       "    }\n",
       "\n",
       "    .dataframe tbody tr th {\n",
       "        vertical-align: top;\n",
       "    }\n",
       "\n",
       "    .dataframe thead th {\n",
       "        text-align: right;\n",
       "    }\n",
       "</style>\n",
       "<table border=\"1\" class=\"dataframe\">\n",
       "  <thead>\n",
       "    <tr style=\"text-align: right;\">\n",
       "      <th></th>\n",
       "      <th>traffic_source</th>\n",
       "      <th>time_to_conversion</th>\n",
       "    </tr>\n",
       "  </thead>\n",
       "  <tbody>\n",
       "    <tr>\n",
       "      <th>0</th>\n",
       "      <td>google</td>\n",
       "      <td>179.448373</td>\n",
       "    </tr>\n",
       "    <tr>\n",
       "      <th>1</th>\n",
       "      <td>(direct)</td>\n",
       "      <td>75.345824</td>\n",
       "    </tr>\n",
       "    <tr>\n",
       "      <th>2</th>\n",
       "      <td>statics.teams.cdn.office.net</td>\n",
       "      <td>59.473321</td>\n",
       "    </tr>\n",
       "    <tr>\n",
       "      <th>3</th>\n",
       "      <td>hs_email</td>\n",
       "      <td>45.020417</td>\n",
       "    </tr>\n",
       "    <tr>\n",
       "      <th>4</th>\n",
       "      <td>bing</td>\n",
       "      <td>32.270053</td>\n",
       "    </tr>\n",
       "    <tr>\n",
       "      <th>5</th>\n",
       "      <td>CJ</td>\n",
       "      <td>26.233918</td>\n",
       "    </tr>\n",
       "    <tr>\n",
       "      <th>6</th>\n",
       "      <td>yahoo</td>\n",
       "      <td>21.377813</td>\n",
       "    </tr>\n",
       "    <tr>\n",
       "      <th>7</th>\n",
       "      <td>magento</td>\n",
       "      <td>19.262691</td>\n",
       "    </tr>\n",
       "    <tr>\n",
       "      <th>8</th>\n",
       "      <td>Data Not Available</td>\n",
       "      <td>17.040746</td>\n",
       "    </tr>\n",
       "    <tr>\n",
       "      <th>9</th>\n",
       "      <td>mrcnet</td>\n",
       "      <td>15.401458</td>\n",
       "    </tr>\n",
       "  </tbody>\n",
       "</table>\n",
       "</div>"
      ],
      "text/plain": [
       "                 traffic_source  time_to_conversion\n",
       "0                        google          179.448373\n",
       "1                      (direct)           75.345824\n",
       "2  statics.teams.cdn.office.net           59.473321\n",
       "3                      hs_email           45.020417\n",
       "4                          bing           32.270053\n",
       "5                            CJ           26.233918\n",
       "6                         yahoo           21.377813\n",
       "7                       magento           19.262691\n",
       "8            Data Not Available           17.040746\n",
       "9                        mrcnet           15.401458"
      ]
     },
     "execution_count": 107,
     "metadata": {},
     "output_type": "execute_result"
    }
   ],
   "source": [
    "traffic_source"
   ]
  },
  {
   "cell_type": "code",
   "execution_count": 104,
   "id": "9a733e79",
   "metadata": {},
   "outputs": [
    {
     "data": {
      "text/plain": [
       "traffic_source_medium\n",
       "cpc                                                       3420\n",
       "(none)                                                    2508\n",
       "organic                                                   1262\n",
       "email                                                      152\n",
       "referral                                                   114\n",
       "Data Not Available                                          42\n",
       "Skimlinks                                                   24\n",
       "Ebates Performance Marketing, Inc. dba Rakuten Rewards      14\n",
       "Sovrn Inc                                                   12\n",
       "Neuintel, LLC                                               11\n",
       "Wildfire Systems                                             6\n",
       "utm_medium=email                                             6\n",
       "Demand.io                                                    2\n",
       "banner                                                       2\n",
       "EHSTODAY                                                     2\n",
       "SH                                                           1\n",
       "Redbrain Ltd                                                 1\n",
       "BIC                                                          1\n",
       "Name: count, dtype: int64"
      ]
     },
     "execution_count": 104,
     "metadata": {},
     "output_type": "execute_result"
    }
   ],
   "source": [
    "data['traffic_source_medium'].value_counts()"
   ]
  },
  {
   "cell_type": "code",
   "execution_count": 110,
   "id": "cca34a9b",
   "metadata": {},
   "outputs": [],
   "source": [
    "source_medium = data[data['traffic_source_medium'].isin(data['traffic_source_medium'].value_counts()[data['traffic_source_medium'].value_counts() > 10].index)]\n",
    "\n",
    "source_medium = source_medium[['traffic_source_medium', 'time_to_conversion']].groupby(['traffic_source_medium']).mean().reset_index()\n",
    "source_medium.sort_values(by='time_to_conversion', ascending=False, inplace=True)\n",
    "source_medium.reset_index(drop=True, inplace=True)"
   ]
  },
  {
   "cell_type": "code",
   "execution_count": 111,
   "id": "bfbc8bb1",
   "metadata": {},
   "outputs": [
    {
     "data": {
      "text/html": [
       "<div>\n",
       "<style scoped>\n",
       "    .dataframe tbody tr th:only-of-type {\n",
       "        vertical-align: middle;\n",
       "    }\n",
       "\n",
       "    .dataframe tbody tr th {\n",
       "        vertical-align: top;\n",
       "    }\n",
       "\n",
       "    .dataframe thead th {\n",
       "        text-align: right;\n",
       "    }\n",
       "</style>\n",
       "<table border=\"1\" class=\"dataframe\">\n",
       "  <thead>\n",
       "    <tr style=\"text-align: right;\">\n",
       "      <th></th>\n",
       "      <th>traffic_source_medium</th>\n",
       "      <th>time_to_conversion</th>\n",
       "    </tr>\n",
       "  </thead>\n",
       "  <tbody>\n",
       "    <tr>\n",
       "      <th>0</th>\n",
       "      <td>cpc</td>\n",
       "      <td>172.232783</td>\n",
       "    </tr>\n",
       "    <tr>\n",
       "      <th>1</th>\n",
       "      <td>(none)</td>\n",
       "      <td>75.345824</td>\n",
       "    </tr>\n",
       "    <tr>\n",
       "      <th>2</th>\n",
       "      <td>organic</td>\n",
       "      <td>65.983474</td>\n",
       "    </tr>\n",
       "    <tr>\n",
       "      <th>3</th>\n",
       "      <td>Neuintel, LLC</td>\n",
       "      <td>57.378418</td>\n",
       "    </tr>\n",
       "    <tr>\n",
       "      <th>4</th>\n",
       "      <td>email</td>\n",
       "      <td>43.230481</td>\n",
       "    </tr>\n",
       "    <tr>\n",
       "      <th>5</th>\n",
       "      <td>Sovrn Inc</td>\n",
       "      <td>41.300238</td>\n",
       "    </tr>\n",
       "    <tr>\n",
       "      <th>6</th>\n",
       "      <td>referral</td>\n",
       "      <td>28.461716</td>\n",
       "    </tr>\n",
       "    <tr>\n",
       "      <th>7</th>\n",
       "      <td>Data Not Available</td>\n",
       "      <td>17.040746</td>\n",
       "    </tr>\n",
       "    <tr>\n",
       "      <th>8</th>\n",
       "      <td>Skimlinks</td>\n",
       "      <td>13.783710</td>\n",
       "    </tr>\n",
       "    <tr>\n",
       "      <th>9</th>\n",
       "      <td>Ebates Performance Marketing, Inc. dba Rakuten...</td>\n",
       "      <td>10.790612</td>\n",
       "    </tr>\n",
       "  </tbody>\n",
       "</table>\n",
       "</div>"
      ],
      "text/plain": [
       "                               traffic_source_medium  time_to_conversion\n",
       "0                                                cpc          172.232783\n",
       "1                                             (none)           75.345824\n",
       "2                                            organic           65.983474\n",
       "3                                      Neuintel, LLC           57.378418\n",
       "4                                              email           43.230481\n",
       "5                                          Sovrn Inc           41.300238\n",
       "6                                           referral           28.461716\n",
       "7                                 Data Not Available           17.040746\n",
       "8                                          Skimlinks           13.783710\n",
       "9  Ebates Performance Marketing, Inc. dba Rakuten...           10.790612"
      ]
     },
     "execution_count": 111,
     "metadata": {},
     "output_type": "execute_result"
    }
   ],
   "source": [
    "source_medium"
   ]
  },
  {
   "cell_type": "markdown",
   "id": "5eef3892",
   "metadata": {},
   "source": [
    "### Calculate average time to conversion by user type"
   ]
  },
  {
   "cell_type": "code",
   "execution_count": 91,
   "id": "7ccd6415",
   "metadata": {},
   "outputs": [],
   "source": [
    "user_type = data[['customer_type', 'time_to_conversion']].groupby(['customer_type']).mean().reset_index()\n",
    "user_type.sort_values(by='time_to_conversion', ascending=False, inplace=True)\n",
    "user_type.reset_index(drop=True, inplace=True)"
   ]
  },
  {
   "cell_type": "code",
   "execution_count": 92,
   "id": "99579a63",
   "metadata": {},
   "outputs": [
    {
     "data": {
      "text/html": [
       "<div>\n",
       "<style scoped>\n",
       "    .dataframe tbody tr th:only-of-type {\n",
       "        vertical-align: middle;\n",
       "    }\n",
       "\n",
       "    .dataframe tbody tr th {\n",
       "        vertical-align: top;\n",
       "    }\n",
       "\n",
       "    .dataframe thead th {\n",
       "        text-align: right;\n",
       "    }\n",
       "</style>\n",
       "<table border=\"1\" class=\"dataframe\">\n",
       "  <thead>\n",
       "    <tr style=\"text-align: right;\">\n",
       "      <th></th>\n",
       "      <th>customer_type</th>\n",
       "      <th>time_to_conversion</th>\n",
       "    </tr>\n",
       "  </thead>\n",
       "  <tbody>\n",
       "    <tr>\n",
       "      <th>0</th>\n",
       "      <td>notLoggedIn</td>\n",
       "      <td>55.731448</td>\n",
       "    </tr>\n",
       "    <tr>\n",
       "      <th>1</th>\n",
       "      <td>web</td>\n",
       "      <td>49.901481</td>\n",
       "    </tr>\n",
       "    <tr>\n",
       "      <th>2</th>\n",
       "      <td>corporate</td>\n",
       "      <td>33.781160</td>\n",
       "    </tr>\n",
       "  </tbody>\n",
       "</table>\n",
       "</div>"
      ],
      "text/plain": [
       "  customer_type  time_to_conversion\n",
       "0   notLoggedIn           55.731448\n",
       "1           web           49.901481\n",
       "2     corporate           33.781160"
      ]
     },
     "execution_count": 92,
     "metadata": {},
     "output_type": "execute_result"
    }
   ],
   "source": [
    "user_type"
   ]
  },
  {
   "cell_type": "code",
   "execution_count": 114,
   "id": "02bb4a25",
   "metadata": {},
   "outputs": [
    {
     "data": {
      "text/plain": [
       "customer_type\n",
       "notLoggedIn    1979\n",
       "corporate      1919\n",
       "web            1787\n",
       "Name: count, dtype: int64"
      ]
     },
     "execution_count": 114,
     "metadata": {},
     "output_type": "execute_result"
    }
   ],
   "source": [
    "data['customer_type'].value_counts()"
   ]
  }
 ],
 "metadata": {
  "kernelspec": {
   "display_name": "base",
   "language": "python",
   "name": "python3"
  },
  "language_info": {
   "codemirror_mode": {
    "name": "ipython",
    "version": 3
   },
   "file_extension": ".py",
   "mimetype": "text/x-python",
   "name": "python",
   "nbconvert_exporter": "python",
   "pygments_lexer": "ipython3",
   "version": "3.13.5"
  }
 },
 "nbformat": 4,
 "nbformat_minor": 5
}
